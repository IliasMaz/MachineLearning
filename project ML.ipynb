{
 "cells": [
  {
   "cell_type": "code",
   "execution_count": 5,
   "id": "5ab51051-4d3b-457d-8cf0-e179045dbceb",
   "metadata": {},
   "outputs": [
    {
     "name": "stdout",
     "output_type": "stream",
     "text": [
      "Accuracy before normalization: 0.94\n",
      "Accuracy after normalization: 0.97\n"
     ]
    }
   ],
   "source": [
    "from sklearn.datasets import load_breast_cancer\n",
    "from sklearn.model_selection import train_test_split\n",
    "from sklearn.svm import SVC\n",
    "from sklearn.preprocessing import StandardScaler\n",
    "from sklearn.metrics import accuracy_score\n",
    "\n",
    "# Φόρτωση του dataset\n",
    "cancer = load_breast_cancer()\n",
    "\n",
    "# Διαχωρισμός σε σύνολα εκπαίδευσης και ελέγχου\n",
    "X_train, X_test, Y_train, Y_test = train_test_split(cancer.data, cancer.target, random_state=0)\n",
    "\n",
    "# Δημιουργία και εκπαίδευση μοντέλου SVM χωρίς κανονικοποίηση\n",
    "model = SVC()\n",
    "model.fit(X_train, Y_train)\n",
    "\n",
    "# Πρόβλεψη και έλεγχος ακρίβειας\n",
    "Y_pred = model.predict(X_test)\n",
    "accuracy_before = accuracy_score(Y_test, Y_pred)\n",
    "print(f'Accuracy before normalization: {accuracy_before:.2f}')\n",
    "\n",
    "# Κανονικοποίηση των δεδομένων\n",
    "scaler = StandardScaler()\n",
    "X_train_scaled = scaler.fit_transform(X_train)\n",
    "X_test_scaled = scaler.transform(X_test)\n",
    "\n",
    "# Δημιουργία και εκπαίδευση μοντέλου SVM με κανονικοποιημένα δεδομένα\n",
    "model_scaled = SVC()\n",
    "model_scaled.fit(X_train_scaled, Y_train)\n",
    "\n",
    "# Πρόβλεψη και έλεγχος ακρίβειας\n",
    "Y_pred_scaled = model_scaled.predict(X_test_scaled)\n",
    "accuracy_after = accuracy_score(Y_test, Y_pred_scaled)\n",
    "print(f'Accuracy after normalization: {accuracy_after:.2f}')\n"
   ]
  },
  {
   "cell_type": "code",
   "execution_count": null,
   "id": "2731a9f2-6d46-4317-a896-cac1dc2093d5",
   "metadata": {},
   "outputs": [],
   "source": []
  }
 ],
 "metadata": {
  "kernelspec": {
   "display_name": "Python 3 (ipykernel)",
   "language": "python",
   "name": "python3"
  },
  "language_info": {
   "codemirror_mode": {
    "name": "ipython",
    "version": 3
   },
   "file_extension": ".py",
   "mimetype": "text/x-python",
   "name": "python",
   "nbconvert_exporter": "python",
   "pygments_lexer": "ipython3",
   "version": "3.12.4"
  }
 },
 "nbformat": 4,
 "nbformat_minor": 5
}
